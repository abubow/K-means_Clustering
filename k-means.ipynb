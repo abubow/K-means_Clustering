{
 "cells": [
  {
   "cell_type": "markdown",
   "metadata": {},
   "source": [
    "# K-Means Clustering"
   ]
  },
  {
   "cell_type": "markdown",
   "metadata": {},
   "source": [
    "K means clustering is a clustering algorithm that groups data points into k clusters based on their similarity, which is defined by the distance between the data points."
   ]
  },
  {
   "cell_type": "code",
   "execution_count": 1,
   "metadata": {},
   "outputs": [],
   "source": [
    "import pandas as pd\n",
    "import numpy as np\n",
    "import matplotlib.pyplot as plt\n",
    "import seaborn as sns"
   ]
  },
  {
   "cell_type": "code",
   "execution_count": 2,
   "metadata": {},
   "outputs": [
    {
     "data": {
      "text/html": [
       "<div>\n",
       "<style scoped>\n",
       "    .dataframe tbody tr th:only-of-type {\n",
       "        vertical-align: middle;\n",
       "    }\n",
       "\n",
       "    .dataframe tbody tr th {\n",
       "        vertical-align: top;\n",
       "    }\n",
       "\n",
       "    .dataframe thead th {\n",
       "        text-align: right;\n",
       "    }\n",
       "</style>\n",
       "<table border=\"1\" class=\"dataframe\">\n",
       "  <thead>\n",
       "    <tr style=\"text-align: right;\">\n",
       "      <th></th>\n",
       "      <th>sepal_length</th>\n",
       "      <th>sepal_width</th>\n",
       "      <th>petal_length</th>\n",
       "      <th>petal_width</th>\n",
       "      <th>species</th>\n",
       "    </tr>\n",
       "  </thead>\n",
       "  <tbody>\n",
       "    <tr>\n",
       "      <th>0</th>\n",
       "      <td>5.1</td>\n",
       "      <td>3.5</td>\n",
       "      <td>1.4</td>\n",
       "      <td>0.2</td>\n",
       "      <td>Iris-setosa</td>\n",
       "    </tr>\n",
       "    <tr>\n",
       "      <th>1</th>\n",
       "      <td>4.9</td>\n",
       "      <td>3.0</td>\n",
       "      <td>1.4</td>\n",
       "      <td>0.2</td>\n",
       "      <td>Iris-setosa</td>\n",
       "    </tr>\n",
       "    <tr>\n",
       "      <th>2</th>\n",
       "      <td>4.7</td>\n",
       "      <td>3.2</td>\n",
       "      <td>1.3</td>\n",
       "      <td>0.2</td>\n",
       "      <td>Iris-setosa</td>\n",
       "    </tr>\n",
       "    <tr>\n",
       "      <th>3</th>\n",
       "      <td>4.6</td>\n",
       "      <td>3.1</td>\n",
       "      <td>1.5</td>\n",
       "      <td>0.2</td>\n",
       "      <td>Iris-setosa</td>\n",
       "    </tr>\n",
       "    <tr>\n",
       "      <th>4</th>\n",
       "      <td>5.0</td>\n",
       "      <td>3.6</td>\n",
       "      <td>1.4</td>\n",
       "      <td>0.2</td>\n",
       "      <td>Iris-setosa</td>\n",
       "    </tr>\n",
       "  </tbody>\n",
       "</table>\n",
       "</div>"
      ],
      "text/plain": [
       "   sepal_length  sepal_width  petal_length  petal_width      species\n",
       "0           5.1          3.5           1.4          0.2  Iris-setosa\n",
       "1           4.9          3.0           1.4          0.2  Iris-setosa\n",
       "2           4.7          3.2           1.3          0.2  Iris-setosa\n",
       "3           4.6          3.1           1.5          0.2  Iris-setosa\n",
       "4           5.0          3.6           1.4          0.2  Iris-setosa"
      ]
     },
     "execution_count": 2,
     "metadata": {},
     "output_type": "execute_result"
    }
   ],
   "source": [
    "df = pd.read_csv('IRIS.csv')\n",
    "df.head()"
   ]
  },
  {
   "cell_type": "code",
   "execution_count": 3,
   "metadata": {},
   "outputs": [
    {
     "data": {
      "text/plain": [
       "Iris-setosa        50\n",
       "Iris-versicolor    50\n",
       "Iris-virginica     50\n",
       "Name: species, dtype: int64"
      ]
     },
     "execution_count": 3,
     "metadata": {},
     "output_type": "execute_result"
    }
   ],
   "source": [
    "df[\"species\"].value_counts() "
   ]
  },
  {
   "cell_type": "code",
   "execution_count": 4,
   "metadata": {},
   "outputs": [],
   "source": [
    "test_data = df.copy()\n",
    "test_data.drop(['species'], axis=1, inplace=True)"
   ]
  },
  {
   "cell_type": "code",
   "execution_count": 5,
   "metadata": {},
   "outputs": [
    {
     "data": {
      "text/plain": [
       "1.5    14\n",
       "1.4    12\n",
       "5.1     8\n",
       "4.5     8\n",
       "1.6     7\n",
       "1.3     7\n",
       "5.6     6\n",
       "4.7     5\n",
       "4.9     5\n",
       "4.0     5\n",
       "4.2     4\n",
       "5.0     4\n",
       "4.4     4\n",
       "4.8     4\n",
       "1.7     4\n",
       "3.9     3\n",
       "4.6     3\n",
       "5.7     3\n",
       "4.1     3\n",
       "5.5     3\n",
       "6.1     3\n",
       "5.8     3\n",
       "3.3     2\n",
       "5.4     2\n",
       "6.7     2\n",
       "5.3     2\n",
       "5.9     2\n",
       "6.0     2\n",
       "1.2     2\n",
       "4.3     2\n",
       "1.9     2\n",
       "3.5     2\n",
       "5.2     2\n",
       "3.0     1\n",
       "1.1     1\n",
       "3.7     1\n",
       "3.8     1\n",
       "6.6     1\n",
       "6.3     1\n",
       "1.0     1\n",
       "6.9     1\n",
       "3.6     1\n",
       "6.4     1\n",
       "Name: petal_length, dtype: int64"
      ]
     },
     "execution_count": 5,
     "metadata": {},
     "output_type": "execute_result"
    }
   ],
   "source": [
    "test_data['sepal_length'] = test_data['sepal_length'].astype(float)\n",
    "test_data['sepal_width'] = test_data['sepal_width'].astype(float)\n",
    "test_data['petal_length'] = test_data['petal_length'].astype(float)\n",
    "test_data['petal_width'] = test_data['petal_width'].astype(float)\n",
    "\n",
    "test_data['petal_length'].value_counts()"
   ]
  },
  {
   "cell_type": "code",
   "execution_count": 6,
   "metadata": {},
   "outputs": [],
   "source": [
    "def euclidean_distance(x1, x2):\n",
    "    return np.sqrt(np.sum((x1 - x2) ** 2))\n",
    "def get_clusters(data, k):\n",
    "    centroids = data.sample(n=k)\n",
    "    clusters = [[] for _ in centroids.index]\n",
    "    if type(data) is pd.DataFrame:\n",
    "        while True:\n",
    "            old_centroids = centroids.copy()\n",
    "            for i in data.index:\n",
    "                distances = []\n",
    "                for j in centroids.index:\n",
    "                    distances.append(euclidean_distance(data.loc[i], centroids.loc[j]))\n",
    "                clusters[distances.index(np.min(distances))].append([x for x in data.loc[i]])\n",
    "            if old_centroids.equals(centroids):\n",
    "                break\n",
    "            for i in range(k):\n",
    "                centroids[i] = np.mean(clusters[i], axis=0)\n",
    "    else:\n",
    "        while True:\n",
    "            old_centroids = centroids.copy()\n",
    "            for i in data.index:\n",
    "                distances = []\n",
    "                for j in centroids.index:\n",
    "                    distances.append(euclidean_distance(data[i], centroids[j]))\n",
    "                clusters[distances.index(np.min(distances))].append(data[i])\n",
    "            if old_centroids.equals(centroids):\n",
    "                break\n",
    "            for i in range(k):\n",
    "                centroids[i] = np.mean(clusters[i], axis=0)\n",
    "                \n",
    "    return centroids, clusters"
   ]
  },
  {
   "cell_type": "code",
   "execution_count": 9,
   "metadata": {},
   "outputs": [
    {
     "data": {
      "image/png": "[encoded data removed]",
      "text/plain": [
       "<Figure size 432x288 with 1 Axes>"
      ]
     },
     "metadata": {
      "needs_background": "light"
     },
     "output_type": "display_data"
    },
    {
     "data": {
      "text/plain": [
       "<matplotlib.collections.PathCollection at 0x12e7bd0b700>"
      ]
     },
     "execution_count": 9,
     "metadata": {},
     "output_type": "execute_result"
    },
    {
     "data": {
      "image/png": "[encoded data removed]",
      "text/plain": [
       "<Figure size 432x288 with 1 Axes>"
      ]
     },
     "metadata": {
      "needs_background": "light"
     },
     "output_type": "display_data"
    }
   ],
   "source": [
    "centeriods, clusters = get_clusters(test_data['sepal_length'], 3)\n",
    "multliCenteriods, multliClusters = get_clusters(test_data, 3)\n",
    "\n",
    "colors = ['red', 'green', 'blue']\n",
    "markers = ['o', 'v', 's']\n",
    "\n",
    "# convert to dataframe\n",
    "df_clusters = []\n",
    "columns = ['sepal_length', 'sepal_width', 'petal_length', 'petal_width']\n",
    "for i in range(len(multliClusters)):\n",
    "    df_clusters.append(pd.DataFrame(columns=columns, data=multliClusters[i]))\n",
    "\n",
    "# plot clusters\n",
    "for i in range(len(multliClusters)):\n",
    "    plt.scatter(df_clusters[i]['sepal_length'], df_clusters[i]['sepal_width'], c=colors[i], marker=markers[i])\n",
    "\n",
    "plt.show()\n",
    "# plot original data\n",
    "plt.scatter(test_data['sepal_length'], test_data['sepal_width'], c='black', marker='o')"
   ]
  },
  {
   "cell_type": "code",
   "execution_count": null,
   "metadata": {},
   "outputs": [],
   "source": [
    "# or"
   ]
  },
  {
   "cell_type": "code",
   "execution_count": null,
   "metadata": {},
   "outputs": [],
   "source": [
    "# Plot the clusters using seaborn\n",
    "sns.set(style=\"whitegrid\")\n",
    "for i in range(len(clusters)):\n",
    "    sns.pairplot(df_clusters[i], palette=colors, markers=markers)\n",
    "plt.show()"
   ]
  },
  {
   "cell_type": "code",
   "execution_count": null,
   "metadata": {},
   "outputs": [],
   "source": []
  },
  {
   "cell_type": "code",
   "execution_count": null,
   "metadata": {},
   "outputs": [],
   "source": []
  },
  {
   "cell_type": "code",
   "execution_count": null,
   "metadata": {},
   "outputs": [],
   "source": []
  }
 ],
 "metadata": {
  "interpreter": {
   "hash": "5092d99d441b34b26d36c4baf7d15be14c578e7f66ff3522c2d290ee75167a8d"
  },
  "kernelspec": {
   "display_name": "Python 3.9.7 ('base')",
   "language": "python",
   "name": "python3"
  },
  "language_info": {
   "codemirror_mode": {
    "name": "ipython",
    "version": 3
   },
   "file_extension": ".py",
   "mimetype": "text/x-python",
   "name": "python",
   "nbconvert_exporter": "python",
   "pygments_lexer": "ipython3",
   "version": "3.9.7"
  },
  "orig_nbformat": 4
 },
 "nbformat": 4,
 "nbformat_minor": 2
}
